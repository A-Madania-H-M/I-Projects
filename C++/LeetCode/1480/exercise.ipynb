{
 "cells": [
  {
   "cell_type": "markdown",
   "metadata": {},
   "source": [
    "\n",
    "# **1480. Running Sum of 1D Array**<br>\n",
    "Given an array nums. We define a running sum of an array as runningSum[i] = sum(nums[0]…nums[i]).<br>\n",
    "Return the running sum of nums.<br>\n",
    "<br>\n",
    "\n",
    "**Example 1:**<br>\n",
    "- Input: nums = [1,2,3,4]<br>\n",
    "- Output: [1,3,6,10]<br>\n",
    "- Explanation: Running sum is obtained as follows: [1, 1+2, 1+2+3, 1+2+3+4].<br>\n",
    "<br>\n",
    "\n",
    "**Example 2:**<br>\n",
    "- Input: nums = [1,1,1,1,1]<br>\n",
    "- Output: [1,2,3,4,5]<br>\n",
    "- Explanation: Running sum is obtained as follows: [1, 1+1, 1+1+1, 1+1+1+1, 1+1+1+1+1].<br>\n",
    "<br>\n",
    "\n",
    "**Example 3:**<br>\n",
    "- Input: nums = [3,1,2,10,1]<br>\n",
    "- Output: [3,4,6,16,17]<br>\n",
    "<br>\n",
    "\n",
    "**Constraints:**<br>\n",
    "- 1 <= nums.length <= 1000<br>\n",
    "- -10^6 <= nums[i] <= 10^6<br>"
   ]
  },
  {
   "cell_type": "markdown",
   "metadata": {},
   "source": []
  }
 ],
 "metadata": {
  "language_info": {
   "name": "python"
  }
 },
 "nbformat": 4,
 "nbformat_minor": 2
}
